{
 "cells": [
  {
   "cell_type": "markdown",
   "metadata": {},
   "source": [
    "#plotly data visualization"
   ]
  },
  {
   "cell_type": "code",
   "execution_count": null,
   "metadata": {},
   "outputs": [],
   "source": [
    "import pandas as pd\n",
    "import numpy as np\n",
    "import matplotlib.pyplot as plt\n",
    "import seaborn as sns\n",
    "import plotly.express as px\n"
   ]
  },
  {
   "cell_type": "code",
   "execution_count": 2,
   "metadata": {},
   "outputs": [
    {
     "ename": "ValueError",
     "evalue": "'' is not one of the example datasets.",
     "output_type": "error",
     "traceback": [
      "\u001b[1;31m---------------------------------------------------------------------------\u001b[0m",
      "\u001b[1;31mValueError\u001b[0m                                Traceback (most recent call last)",
      "Cell \u001b[1;32mIn[2], line 8\u001b[0m\n\u001b[0;32m      3\u001b[0m height\u001b[38;5;241m=\u001b[39m[\u001b[38;5;241m2.3\u001b[39m,\u001b[38;5;241m4.8\u001b[39m,\u001b[38;5;241m9.2\u001b[39m]\n\u001b[0;32m      4\u001b[0m \u001b[38;5;66;03m#line chart\u001b[39;00m\n\u001b[0;32m      5\u001b[0m \u001b[38;5;66;03m# fig=px.line(x=name,y=height,title=\"graph of student\")\u001b[39;00m\n\u001b[0;32m      6\u001b[0m \u001b[38;5;66;03m# px.line(x=name,y=height,title=\"graph of student\")\u001b[39;00m\n\u001b[0;32m      7\u001b[0m \u001b[38;5;66;03m# px.bar(x=name,y=height,title=\"graph of student\")\u001b[39;00m\n\u001b[1;32m----> 8\u001b[0m df\u001b[38;5;241m=\u001b[39m\u001b[43msns\u001b[49m\u001b[38;5;241;43m.\u001b[39;49m\u001b[43mload_dataset\u001b[49m\u001b[43m(\u001b[49m\u001b[38;5;124;43m'\u001b[39;49m\u001b[38;5;124;43m'\u001b[39;49m\u001b[43m)\u001b[49m\n\u001b[0;32m      9\u001b[0m fig\u001b[38;5;241m=\u001b[39mpx\u001b[38;5;241m.\u001b[39mscatter(x\u001b[38;5;241m=\u001b[39m\u001b[38;5;124m\"\u001b[39m\u001b[38;5;124mage\u001b[39m\u001b[38;5;124m\"\u001b[39m,y\u001b[38;5;241m=\u001b[39m\u001b[38;5;124m\"\u001b[39m\u001b[38;5;124mfare\u001b[39m\u001b[38;5;124m\"\u001b[39m,color\u001b[38;5;241m=\u001b[39m\u001b[38;5;124m\"\u001b[39m\u001b[38;5;124msex\u001b[39m\u001b[38;5;124m\"\u001b[39m,size\u001b[38;5;241m=\u001b[39m\u001b[38;5;124m\"\u001b[39m\u001b[38;5;124mfare\u001b[39m\u001b[38;5;124m\"\u001b[39m,title\u001b[38;5;241m=\u001b[39m\u001b[38;5;124m\"\u001b[39m\u001b[38;5;124mgraph of student\u001b[39m\u001b[38;5;124m\"\u001b[39m)\n\u001b[0;32m     10\u001b[0m fig\u001b[38;5;241m.\u001b[39mshow()\n",
      "File \u001b[1;32mc:\\Users\\DELL\\AppData\\Local\\Programs\\Python\\Python312\\Lib\\site-packages\\seaborn\\utils.py:573\u001b[0m, in \u001b[0;36mload_dataset\u001b[1;34m(name, cache, data_home, **kws)\u001b[0m\n\u001b[0;32m    571\u001b[0m \u001b[38;5;28;01mif\u001b[39;00m \u001b[38;5;129;01mnot\u001b[39;00m os\u001b[38;5;241m.\u001b[39mpath\u001b[38;5;241m.\u001b[39mexists(cache_path):\n\u001b[0;32m    572\u001b[0m     \u001b[38;5;28;01mif\u001b[39;00m name \u001b[38;5;129;01mnot\u001b[39;00m \u001b[38;5;129;01min\u001b[39;00m get_dataset_names():\n\u001b[1;32m--> 573\u001b[0m         \u001b[38;5;28;01mraise\u001b[39;00m \u001b[38;5;167;01mValueError\u001b[39;00m(\u001b[38;5;124mf\u001b[39m\u001b[38;5;124m\"\u001b[39m\u001b[38;5;124m'\u001b[39m\u001b[38;5;132;01m{\u001b[39;00mname\u001b[38;5;132;01m}\u001b[39;00m\u001b[38;5;124m'\u001b[39m\u001b[38;5;124m is not one of the example datasets.\u001b[39m\u001b[38;5;124m\"\u001b[39m)\n\u001b[0;32m    574\u001b[0m     urlretrieve(url, cache_path)\n\u001b[0;32m    575\u001b[0m full_path \u001b[38;5;241m=\u001b[39m cache_path\n",
      "\u001b[1;31mValueError\u001b[0m: '' is not one of the example datasets."
     ]
    }
   ],
   "source": [
    "import plotly.express as px\n",
    "name=[\"arham\",\"haron\",\"ali\"]\n",
    "height=[2.3,4.8,9.2]\n",
    "#line chart\n",
    "# fig=px.line(x=name,y=height,title=\"graph of student\")\n",
    "# px.line(x=name,y=height,title=\"graph of student\")\n",
    "# px.bar(x=name,y=height,title=\"graph of student\")\n",
    "df=sns.load_dataset('')\n",
    "fig=px.scatter(x=\"age\",y=\"fare\",color=\"sex\",size=\"fare\",title=\"graph of student\")\n",
    "fig.show()\n",
    "\n",
    "# fig.write_image(\"arham.png\")\n",
    "fig.write_html(\"arham.html\")  \n",
    "\n",
    "\n"
   ]
  },
  {
   "cell_type": "code",
   "execution_count": 11,
   "metadata": {},
   "outputs": [
    {
     "data": {
      "application/vnd.plotly.v1+json": {
       "config": {
        "plotlyServerURL": "https://plot.ly"
       },
       "data": [
        {
         "hovertemplate": "sex=female<br>age=%{x}<br>fare=%{marker.size}<extra></extra>",
         "legendgroup": "female",
         "marker": {
          "color": "#636efa",
          "size": {
           "bdata": "PL1SliHSUUDNzMzMzIxKQDMzMzMzszBAzczMzMyMOkCRD3o2qy5TQAAAAAAAACVAAAAAAABwcEAAAAAAAAAqQPH0SlmGSDpAZmZmZmamUEBmZmZmZrY8QPH0SlmGuDtAOPjCZKpQYkDNzMzMzOwkQJqZmZmZUVxAkQ96NqsSU0BmZmZmZt5UQM3MzMzM7CRAAAAAAACgVUDNzMzMzC5jQNGRXP5D9GBAb/CFyVR9U0D3deCcEcVWQJqZmZmZ8WJAOPjCZKrwbkCamZmZmTlbQLu4jQbwdkxAPL1SliHKVEAAAAAAAGZwQC9uowG8m2RAAAAAAADQYEDRkVz+Q/RgQAAAAAAAACpAIR/0bFb9TEAAAAAAANBgQAAAAAAAcHBAAAAAAAAAKkAAAAAAAIBLQAAAAAAA0FJAMzMzMzNTUUCamZmZmVFcQDMzMzMzszBAAAAAAACAVkAAAAAAAABeQIV80LNZlStAAAAAAACAVkD3deCcEZFTQJqZmZmZ8WJAAAAAAACgVUAAAAAAAAAlQAAAAAAAYFdAIR/0bFb9TEAAAAAAAMBIQAAAAAAAwFFAzczMzMzMQ0CamZmZmelTQCEf9GxWvUlAMzMzMzPzS0CjI7n8h7hbQJqZmZmZ6VNA93XgnBGRU0DNzMzMzC5jQAAAAAAAgENAb/CFyVR9U0AzMzMzM1NRQM3MzMzMampAzczMzMxwbEBUUiegicBIQM3MzMzMcGxAAAAAAAAAJUDNzMzMzGpqQAAAAAAAZnBAAAAAAACgVUAAAAAAAABeQG/whclUfVNAAAAAAAAAJUDNzMzMzGpqQAAAAAAAgExAdnEbDeDtOUDNzMzMzIxKQAAAAAAAYFdAMzMzMzPzKEA8vVKWIcpUQDMzMzMzs0NAdnEbDeDtOUC7uI0G8EZKQDy9UpYhylRAAAAAAAAAPkA=",
           "dtype": "f8"
          },
          "sizemode": "area",
          "sizeref": 1.280823,
          "symbol": "circle"
         },
         "mode": "markers",
         "name": "female",
         "orientation": "v",
         "showlegend": true,
         "type": "scatter",
         "x": {
          "bdata": "AAAAAAAAQ0AAAAAAAIBBQAAAAAAAABBAAAAAAAAATUAAAAAAAIBIQAAAAAAAAD1AAAAAAAAAN0AAAAAAAEBAQAAAAAAAADNAAAAAAAAANkAAAAAAAABJQAAAAAAAAEZAAAAAAAAATUAAAAAAAAAAQAAAAAAAAD9AAAAAAAAAQEAAAAAAAIBBQAAAAAAAAD1AAAAAAAAAPkAAAAAAAABNQAAAAAAAgEFAAAAAAACAT0AAAAAAAAAzQAAAAAAAAABAAAAAAAAASUAAAAAAAAAxQAAAAAAAAD5AAAAAAAAAOEAAAAAAAAAyQAAAAAAAAD9AAAAAAAAAREAAAAAAAABCQAAAAAAAAEJAAAAAAAAAMEAAAAAAAIBEQAAAAAAAADhAAAAAAAAAOEAAAAAAAAA2QAAAAAAAAE5AAAAAAAAAOEAAAAAAAAA3QAAAAAAAADhAAAAAAACAQEAAAAAAAAAsQAAAAAAAADdAAAAAAACAQUAAAAAAAABLQAAAAAAAADlAAAAAAAAAMEAAAAAAAABBQAAAAAAAAD5AAAAAAAAARkAAAAAAAAA2QAAAAAAAAEJAAAAAAAAASEAAAAAAAIBDQAAAAAAAgEpAAAAAAACAQ0AAAAAAAIBDQAAAAAAAADJAAAAAAAAASkAAAAAAAABEQAAAAAAAABBAAAAAAAAANUAAAAAAAAA4QAAAAAAAAC5AAAAAAAAAMkAAAAAAAAA4QAAAAAAAAENAAAAAAAAAO0AAAAAAAAA9QAAAAAAAADVAAAAAAACAQEAAAAAAAABCQAAAAAAAgElAAAAAAACATEAAAAAAAIBFQAAAAAAAADFAAAAAAACASEAAAAAAAIBAQAAAAAAAAEpAAAAAAAAAO0AAAAAAAIBDQAAAAAAAADBAAAAAAAAASEAAAAAAAIBHQAAAAAAAAExAAAAAAAAAM0A=",
          "dtype": "f8"
         },
         "xaxis": "x",
         "y": {
          "bdata": "PL1SliHSUUDNzMzMzIxKQDMzMzMzszBAzczMzMyMOkCRD3o2qy5TQAAAAAAAACVAAAAAAABwcEAAAAAAAAAqQPH0SlmGSDpAZmZmZmamUEBmZmZmZrY8QPH0SlmGuDtAOPjCZKpQYkDNzMzMzOwkQJqZmZmZUVxAkQ96NqsSU0BmZmZmZt5UQM3MzMzM7CRAAAAAAACgVUDNzMzMzC5jQNGRXP5D9GBAb/CFyVR9U0D3deCcEcVWQJqZmZmZ8WJAOPjCZKrwbkCamZmZmTlbQLu4jQbwdkxAPL1SliHKVEAAAAAAAGZwQC9uowG8m2RAAAAAAADQYEDRkVz+Q/RgQAAAAAAAACpAIR/0bFb9TEAAAAAAANBgQAAAAAAAcHBAAAAAAAAAKkAAAAAAAIBLQAAAAAAA0FJAMzMzMzNTUUCamZmZmVFcQDMzMzMzszBAAAAAAACAVkAAAAAAAABeQIV80LNZlStAAAAAAACAVkD3deCcEZFTQJqZmZmZ8WJAAAAAAACgVUAAAAAAAAAlQAAAAAAAYFdAIR/0bFb9TEAAAAAAAMBIQAAAAAAAwFFAzczMzMzMQ0CamZmZmelTQCEf9GxWvUlAMzMzMzPzS0CjI7n8h7hbQJqZmZmZ6VNA93XgnBGRU0DNzMzMzC5jQAAAAAAAgENAb/CFyVR9U0AzMzMzM1NRQM3MzMzMampAzczMzMxwbEBUUiegicBIQM3MzMzMcGxAAAAAAAAAJUDNzMzMzGpqQAAAAAAAZnBAAAAAAACgVUAAAAAAAABeQG/whclUfVNAAAAAAAAAJUDNzMzMzGpqQAAAAAAAgExAdnEbDeDtOUDNzMzMzIxKQAAAAAAAYFdAMzMzMzPzKEA8vVKWIcpUQDMzMzMzs0NAdnEbDeDtOUC7uI0G8EZKQDy9UpYhylRAAAAAAAAAPkA=",
          "dtype": "f8"
         },
         "yaxis": "y"
        },
        {
         "hovertemplate": "sex=male<br>age=%{x}<br>fare=%{marker.size}<extra></extra>",
         "legendgroup": "male",
         "marker": {
          "color": "#EF553B",
          "size": {
           "bdata": "ZmZmZmbuSUAAAAAAAAAqQAAAAAAAwEFAAAAAAABwcEAhH/RsVv1OQGZmZmZm3lRAmpmZmZmZHkBmZmZmZpZOQIiFWtO8U0FAEhQ/xtytT0BmZmZmZlJTQAAAAAAAAEpAOPjCZKrwbkBmZmZmZlJTQM3MzMzMjEpAzczMzMzMU0AAAAAAAAA6QAAAAAAAwEBAio7k8h+yPkAAAAAAAIBDQAAAAAAAADpAAAAAAAAAP0AAAAAAAIBWQAAAAAAAgFZAu7iNBvBGSkDNzMzMzIw6QJqZmZmZ6VNAAAAAAAAAAAAzMzMzM7M9QAAAAAAAwClAmpmZmZnxYkAAAAAAAIA8QM3MzMzMLmNAZmZmZmamUEAAAAAAAAA6QFRSJ6CJuEtAAAAAAABwakAAAAAAAABeQJqZmZmZGSBAzczMzMyMOkAzMzMzM/NLQAAAAAAAcHBACYofY+52VEAAAAAAAIA+QAAAAAAAwDtAkQ96NqtGVkDNzMzMzIw6QM3MzMzMjDpAAAAAAABAQ0D3deCcEcVWQDMzMzMzsz1AAAAAAACAPkCamZmZmTlbQJqZmZmZSTpA3+ALk6kCQUDNzMzMzIw6QDMzMzMzm1pAoyO5/Ie4W0AzMzMzM2M6QAAAAAAAEERAzczMzMzMU0C7uI0G8HZMQLu4jQbwRkpARUdy+Q8pQEAAAAAAAAA+QAAAAAAAgD5AkQ96NqsuU0AAAAAAAMBBQJqZmZmZUVxAZmZmZmaWOUAAAAAAAABKQL8OnDOiAoBAkQ96NqsuU0AAAAAAAIBMQKMjufyHuFtAmpmZmZmZHkCamZmZmUk6QJqZmZmZSTpAAAAAAAAASkCamZmZmZkeQM3MzMzMjEpAvw6cM6ICgEBmZmZmZrZTQAAAAAAAwFFAzczMzMyMSkAzMzMzM/MoQAAAAAAAAD5AzczMzMzMU0AAAAAAAABeQAAAAAAAAAAAzczMzMyMOkCsrdhfdj9JQAAAAAAAABRAAAAAAAAAPkA=",
           "dtype": "f8"
          },
          "sizemode": "area",
          "sizeref": 1.280823,
          "symbol": "circle"
         },
         "mode": "markers",
         "name": "male",
         "orientation": "v",
         "showlegend": true,
         "type": "scatter",
         "x": {
          "bdata": "AAAAAAAAS0AAAAAAAABBQAAAAAAAADxAAAAAAAAAM0AAAAAAAEBQQAAAAAAAgEZAAAAAAAAAOUAAAAAAAABHQAAAAAAAwFFAAAAAAAAAN0AAAAAAAAA1QAAAAAAAgEdAAAAAAAAAOEAAAAAAAABLQAAAAAAAgEJAAAAAAAAAOEAAAAAAAEBCQAAAAAAAgE5AAAAAAAAATEAAAAAAAADwPwAAAAAAAAhAAAAAAAAAREAAAAAAAABDQAAAAAAAAEZAAAAAAACAQkAAAAAAAABPQAAAAAAAAEpAAAAAAAAAREAAAAAAAIBCQAAAAAAAAEJAcT0K16Nw7T8AAAAAAMBGQAAAAAAAAENAAAAAAAAAPUAAAAAAAAAAQAAAAAAAADlAAAAAAAAAO0AAAAAAAABCQAAAAAAAAEBAAAAAAAAAPEAAAAAAAABJQAAAAAAAAFBAAAAAAAAAEEAAAAAAAABKQAAAAAAAAD5AAAAAAACASEAAAAAAAEBQQAAAAAAAAEhAAAAAAACAR0AAAAAAAAA5QAAAAAAAAE1AAAAAAACAS0AAAAAAAAAyQAAAAAAAAEJAAAAAAACAR0AAAAAAAIBGQAAAAAAAAElAAAAAAAAAMUAAAAAAAABCQAAAAAAAAEJAAAAAAAAATkAAAAAAAIBIQAAAAAAAAEVAAAAAAACATkAAAAAAAABUQAAAAAAAAEBAAAAAAAAASEAAAAAAAABMQAAAAAAAAE1AAAAAAACAR0AAAAAAAAA/QAAAAAAAAEJAAAAAAAAAO0AAAAAAAAA/QAAAAAAAgEhAAAAAAAAARUAAAAAAAIBBQAAAAAAAAEVAAAAAAAAASEAAAAAAAAAzQAAAAAAAADtAAAAAAACAQUAAAAAAAABCQAAAAAAAgFFAAAAAAAAAM0AAAAAAAAAYQAAAAAAAAD1AAAAAAAAAR0AAAAAAAAAmQAAAAAAAgENAAAAAAACASUAAAAAAAAA/QAAAAAAAgEBAAAAAAAAAOkA=",
          "dtype": "f8"
         },
         "xaxis": "x",
         "y": {
          "bdata": "ZmZmZmbuSUAAAAAAAAAqQAAAAAAAwEFAAAAAAABwcEAhH/RsVv1OQGZmZmZm3lRAmpmZmZmZHkBmZmZmZpZOQIiFWtO8U0FAEhQ/xtytT0BmZmZmZlJTQAAAAAAAAEpAOPjCZKrwbkBmZmZmZlJTQM3MzMzMjEpAzczMzMzMU0AAAAAAAAA6QAAAAAAAwEBAio7k8h+yPkAAAAAAAIBDQAAAAAAAADpAAAAAAAAAP0AAAAAAAIBWQAAAAAAAgFZAu7iNBvBGSkDNzMzMzIw6QJqZmZmZ6VNAAAAAAAAAAAAzMzMzM7M9QAAAAAAAwClAmpmZmZnxYkAAAAAAAIA8QM3MzMzMLmNAZmZmZmamUEAAAAAAAAA6QFRSJ6CJuEtAAAAAAABwakAAAAAAAABeQJqZmZmZGSBAzczMzMyMOkAzMzMzM/NLQAAAAAAAcHBACYofY+52VEAAAAAAAIA+QAAAAAAAwDtAkQ96NqtGVkDNzMzMzIw6QM3MzMzMjDpAAAAAAABAQ0D3deCcEcVWQDMzMzMzsz1AAAAAAACAPkCamZmZmTlbQJqZmZmZSTpA3+ALk6kCQUDNzMzMzIw6QDMzMzMzm1pAoyO5/Ie4W0AzMzMzM2M6QAAAAAAAEERAzczMzMzMU0C7uI0G8HZMQLu4jQbwRkpARUdy+Q8pQEAAAAAAAAA+QAAAAAAAgD5AkQ96NqsuU0AAAAAAAMBBQJqZmZmZUVxAZmZmZmaWOUAAAAAAAABKQL8OnDOiAoBAkQ96NqsuU0AAAAAAAIBMQKMjufyHuFtAmpmZmZmZHkCamZmZmUk6QJqZmZmZSTpAAAAAAAAASkCamZmZmZkeQM3MzMzMjEpAvw6cM6ICgEBmZmZmZrZTQAAAAAAAwFFAzczMzMyMSkAzMzMzM/MoQAAAAAAAAD5AzczMzMzMU0AAAAAAAABeQAAAAAAAAAAAzczMzMyMOkCsrdhfdj9JQAAAAAAAABRAAAAAAAAAPkA=",
          "dtype": "f8"
         },
         "yaxis": "y"
        }
       ],
       "layout": {
        "legend": {
         "itemsizing": "constant",
         "title": {
          "text": "sex"
         },
         "tracegroupgap": 0
        },
        "template": {
         "data": {
          "bar": [
           {
            "error_x": {
             "color": "#2a3f5f"
            },
            "error_y": {
             "color": "#2a3f5f"
            },
            "marker": {
             "line": {
              "color": "#E5ECF6",
              "width": 0.5
             },
             "pattern": {
              "fillmode": "overlay",
              "size": 10,
              "solidity": 0.2
             }
            },
            "type": "bar"
           }
          ],
          "barpolar": [
           {
            "marker": {
             "line": {
              "color": "#E5ECF6",
              "width": 0.5
             },
             "pattern": {
              "fillmode": "overlay",
              "size": 10,
              "solidity": 0.2
             }
            },
            "type": "barpolar"
           }
          ],
          "carpet": [
           {
            "aaxis": {
             "endlinecolor": "#2a3f5f",
             "gridcolor": "white",
             "linecolor": "white",
             "minorgridcolor": "white",
             "startlinecolor": "#2a3f5f"
            },
            "baxis": {
             "endlinecolor": "#2a3f5f",
             "gridcolor": "white",
             "linecolor": "white",
             "minorgridcolor": "white",
             "startlinecolor": "#2a3f5f"
            },
            "type": "carpet"
           }
          ],
          "choropleth": [
           {
            "colorbar": {
             "outlinewidth": 0,
             "ticks": ""
            },
            "type": "choropleth"
           }
          ],
          "contour": [
           {
            "colorbar": {
             "outlinewidth": 0,
             "ticks": ""
            },
            "colorscale": [
             [
              0,
              "#0d0887"
             ],
             [
              0.1111111111111111,
              "#46039f"
             ],
             [
              0.2222222222222222,
              "#7201a8"
             ],
             [
              0.3333333333333333,
              "#9c179e"
             ],
             [
              0.4444444444444444,
              "#bd3786"
             ],
             [
              0.5555555555555556,
              "#d8576b"
             ],
             [
              0.6666666666666666,
              "#ed7953"
             ],
             [
              0.7777777777777778,
              "#fb9f3a"
             ],
             [
              0.8888888888888888,
              "#fdca26"
             ],
             [
              1,
              "#f0f921"
             ]
            ],
            "type": "contour"
           }
          ],
          "contourcarpet": [
           {
            "colorbar": {
             "outlinewidth": 0,
             "ticks": ""
            },
            "type": "contourcarpet"
           }
          ],
          "heatmap": [
           {
            "colorbar": {
             "outlinewidth": 0,
             "ticks": ""
            },
            "colorscale": [
             [
              0,
              "#0d0887"
             ],
             [
              0.1111111111111111,
              "#46039f"
             ],
             [
              0.2222222222222222,
              "#7201a8"
             ],
             [
              0.3333333333333333,
              "#9c179e"
             ],
             [
              0.4444444444444444,
              "#bd3786"
             ],
             [
              0.5555555555555556,
              "#d8576b"
             ],
             [
              0.6666666666666666,
              "#ed7953"
             ],
             [
              0.7777777777777778,
              "#fb9f3a"
             ],
             [
              0.8888888888888888,
              "#fdca26"
             ],
             [
              1,
              "#f0f921"
             ]
            ],
            "type": "heatmap"
           }
          ],
          "histogram": [
           {
            "marker": {
             "pattern": {
              "fillmode": "overlay",
              "size": 10,
              "solidity": 0.2
             }
            },
            "type": "histogram"
           }
          ],
          "histogram2d": [
           {
            "colorbar": {
             "outlinewidth": 0,
             "ticks": ""
            },
            "colorscale": [
             [
              0,
              "#0d0887"
             ],
             [
              0.1111111111111111,
              "#46039f"
             ],
             [
              0.2222222222222222,
              "#7201a8"
             ],
             [
              0.3333333333333333,
              "#9c179e"
             ],
             [
              0.4444444444444444,
              "#bd3786"
             ],
             [
              0.5555555555555556,
              "#d8576b"
             ],
             [
              0.6666666666666666,
              "#ed7953"
             ],
             [
              0.7777777777777778,
              "#fb9f3a"
             ],
             [
              0.8888888888888888,
              "#fdca26"
             ],
             [
              1,
              "#f0f921"
             ]
            ],
            "type": "histogram2d"
           }
          ],
          "histogram2dcontour": [
           {
            "colorbar": {
             "outlinewidth": 0,
             "ticks": ""
            },
            "colorscale": [
             [
              0,
              "#0d0887"
             ],
             [
              0.1111111111111111,
              "#46039f"
             ],
             [
              0.2222222222222222,
              "#7201a8"
             ],
             [
              0.3333333333333333,
              "#9c179e"
             ],
             [
              0.4444444444444444,
              "#bd3786"
             ],
             [
              0.5555555555555556,
              "#d8576b"
             ],
             [
              0.6666666666666666,
              "#ed7953"
             ],
             [
              0.7777777777777778,
              "#fb9f3a"
             ],
             [
              0.8888888888888888,
              "#fdca26"
             ],
             [
              1,
              "#f0f921"
             ]
            ],
            "type": "histogram2dcontour"
           }
          ],
          "mesh3d": [
           {
            "colorbar": {
             "outlinewidth": 0,
             "ticks": ""
            },
            "type": "mesh3d"
           }
          ],
          "parcoords": [
           {
            "line": {
             "colorbar": {
              "outlinewidth": 0,
              "ticks": ""
             }
            },
            "type": "parcoords"
           }
          ],
          "pie": [
           {
            "automargin": true,
            "type": "pie"
           }
          ],
          "scatter": [
           {
            "fillpattern": {
             "fillmode": "overlay",
             "size": 10,
             "solidity": 0.2
            },
            "type": "scatter"
           }
          ],
          "scatter3d": [
           {
            "line": {
             "colorbar": {
              "outlinewidth": 0,
              "ticks": ""
             }
            },
            "marker": {
             "colorbar": {
              "outlinewidth": 0,
              "ticks": ""
             }
            },
            "type": "scatter3d"
           }
          ],
          "scattercarpet": [
           {
            "marker": {
             "colorbar": {
              "outlinewidth": 0,
              "ticks": ""
             }
            },
            "type": "scattercarpet"
           }
          ],
          "scattergeo": [
           {
            "marker": {
             "colorbar": {
              "outlinewidth": 0,
              "ticks": ""
             }
            },
            "type": "scattergeo"
           }
          ],
          "scattergl": [
           {
            "marker": {
             "colorbar": {
              "outlinewidth": 0,
              "ticks": ""
             }
            },
            "type": "scattergl"
           }
          ],
          "scattermap": [
           {
            "marker": {
             "colorbar": {
              "outlinewidth": 0,
              "ticks": ""
             }
            },
            "type": "scattermap"
           }
          ],
          "scattermapbox": [
           {
            "marker": {
             "colorbar": {
              "outlinewidth": 0,
              "ticks": ""
             }
            },
            "type": "scattermapbox"
           }
          ],
          "scatterpolar": [
           {
            "marker": {
             "colorbar": {
              "outlinewidth": 0,
              "ticks": ""
             }
            },
            "type": "scatterpolar"
           }
          ],
          "scatterpolargl": [
           {
            "marker": {
             "colorbar": {
              "outlinewidth": 0,
              "ticks": ""
             }
            },
            "type": "scatterpolargl"
           }
          ],
          "scatterternary": [
           {
            "marker": {
             "colorbar": {
              "outlinewidth": 0,
              "ticks": ""
             }
            },
            "type": "scatterternary"
           }
          ],
          "surface": [
           {
            "colorbar": {
             "outlinewidth": 0,
             "ticks": ""
            },
            "colorscale": [
             [
              0,
              "#0d0887"
             ],
             [
              0.1111111111111111,
              "#46039f"
             ],
             [
              0.2222222222222222,
              "#7201a8"
             ],
             [
              0.3333333333333333,
              "#9c179e"
             ],
             [
              0.4444444444444444,
              "#bd3786"
             ],
             [
              0.5555555555555556,
              "#d8576b"
             ],
             [
              0.6666666666666666,
              "#ed7953"
             ],
             [
              0.7777777777777778,
              "#fb9f3a"
             ],
             [
              0.8888888888888888,
              "#fdca26"
             ],
             [
              1,
              "#f0f921"
             ]
            ],
            "type": "surface"
           }
          ],
          "table": [
           {
            "cells": {
             "fill": {
              "color": "#EBF0F8"
             },
             "line": {
              "color": "white"
             }
            },
            "header": {
             "fill": {
              "color": "#C8D4E3"
             },
             "line": {
              "color": "white"
             }
            },
            "type": "table"
           }
          ]
         },
         "layout": {
          "annotationdefaults": {
           "arrowcolor": "#2a3f5f",
           "arrowhead": 0,
           "arrowwidth": 1
          },
          "autotypenumbers": "strict",
          "coloraxis": {
           "colorbar": {
            "outlinewidth": 0,
            "ticks": ""
           }
          },
          "colorscale": {
           "diverging": [
            [
             0,
             "#8e0152"
            ],
            [
             0.1,
             "#c51b7d"
            ],
            [
             0.2,
             "#de77ae"
            ],
            [
             0.3,
             "#f1b6da"
            ],
            [
             0.4,
             "#fde0ef"
            ],
            [
             0.5,
             "#f7f7f7"
            ],
            [
             0.6,
             "#e6f5d0"
            ],
            [
             0.7,
             "#b8e186"
            ],
            [
             0.8,
             "#7fbc41"
            ],
            [
             0.9,
             "#4d9221"
            ],
            [
             1,
             "#276419"
            ]
           ],
           "sequential": [
            [
             0,
             "#0d0887"
            ],
            [
             0.1111111111111111,
             "#46039f"
            ],
            [
             0.2222222222222222,
             "#7201a8"
            ],
            [
             0.3333333333333333,
             "#9c179e"
            ],
            [
             0.4444444444444444,
             "#bd3786"
            ],
            [
             0.5555555555555556,
             "#d8576b"
            ],
            [
             0.6666666666666666,
             "#ed7953"
            ],
            [
             0.7777777777777778,
             "#fb9f3a"
            ],
            [
             0.8888888888888888,
             "#fdca26"
            ],
            [
             1,
             "#f0f921"
            ]
           ],
           "sequentialminus": [
            [
             0,
             "#0d0887"
            ],
            [
             0.1111111111111111,
             "#46039f"
            ],
            [
             0.2222222222222222,
             "#7201a8"
            ],
            [
             0.3333333333333333,
             "#9c179e"
            ],
            [
             0.4444444444444444,
             "#bd3786"
            ],
            [
             0.5555555555555556,
             "#d8576b"
            ],
            [
             0.6666666666666666,
             "#ed7953"
            ],
            [
             0.7777777777777778,
             "#fb9f3a"
            ],
            [
             0.8888888888888888,
             "#fdca26"
            ],
            [
             1,
             "#f0f921"
            ]
           ]
          },
          "colorway": [
           "#636efa",
           "#EF553B",
           "#00cc96",
           "#ab63fa",
           "#FFA15A",
           "#19d3f3",
           "#FF6692",
           "#B6E880",
           "#FF97FF",
           "#FECB52"
          ],
          "font": {
           "color": "#2a3f5f"
          },
          "geo": {
           "bgcolor": "white",
           "lakecolor": "white",
           "landcolor": "#E5ECF6",
           "showlakes": true,
           "showland": true,
           "subunitcolor": "white"
          },
          "hoverlabel": {
           "align": "left"
          },
          "hovermode": "closest",
          "mapbox": {
           "style": "light"
          },
          "paper_bgcolor": "white",
          "plot_bgcolor": "#E5ECF6",
          "polar": {
           "angularaxis": {
            "gridcolor": "white",
            "linecolor": "white",
            "ticks": ""
           },
           "bgcolor": "#E5ECF6",
           "radialaxis": {
            "gridcolor": "white",
            "linecolor": "white",
            "ticks": ""
           }
          },
          "scene": {
           "xaxis": {
            "backgroundcolor": "#E5ECF6",
            "gridcolor": "white",
            "gridwidth": 2,
            "linecolor": "white",
            "showbackground": true,
            "ticks": "",
            "zerolinecolor": "white"
           },
           "yaxis": {
            "backgroundcolor": "#E5ECF6",
            "gridcolor": "white",
            "gridwidth": 2,
            "linecolor": "white",
            "showbackground": true,
            "ticks": "",
            "zerolinecolor": "white"
           },
           "zaxis": {
            "backgroundcolor": "#E5ECF6",
            "gridcolor": "white",
            "gridwidth": 2,
            "linecolor": "white",
            "showbackground": true,
            "ticks": "",
            "zerolinecolor": "white"
           }
          },
          "shapedefaults": {
           "line": {
            "color": "#2a3f5f"
           }
          },
          "ternary": {
           "aaxis": {
            "gridcolor": "white",
            "linecolor": "white",
            "ticks": ""
           },
           "baxis": {
            "gridcolor": "white",
            "linecolor": "white",
            "ticks": ""
           },
           "bgcolor": "#E5ECF6",
           "caxis": {
            "gridcolor": "white",
            "linecolor": "white",
            "ticks": ""
           }
          },
          "title": {
           "x": 0.05
          },
          "xaxis": {
           "automargin": true,
           "gridcolor": "white",
           "linecolor": "white",
           "ticks": "",
           "title": {
            "standoff": 15
           },
           "zerolinecolor": "white",
           "zerolinewidth": 2
          },
          "yaxis": {
           "automargin": true,
           "gridcolor": "white",
           "linecolor": "white",
           "ticks": "",
           "title": {
            "standoff": 15
           },
           "zerolinecolor": "white",
           "zerolinewidth": 2
          }
         }
        },
        "title": {
         "text": "arham"
        },
        "xaxis": {
         "anchor": "y",
         "domain": [
          0,
          1
         ],
         "title": {
          "text": "age"
         }
        },
        "yaxis": {
         "anchor": "x",
         "domain": [
          0,
          1
         ],
         "title": {
          "text": "fare"
         }
        }
       }
      }
     },
     "metadata": {},
     "output_type": "display_data"
    }
   ],
   "source": [
    "import pandas as pd\n",
    "import numpy as np\n",
    "import matplotlib.pyplot as plt\n",
    "import seaborn as sns\n",
    "import plotly.express as px\n",
    "\n",
    "df=sns.load_dataset('titanic')\n",
    "df.head()\n",
    "df.dropna(inplace=True)\n",
    "fige=px.scatter(df,x=\"age\",y=\"fare\",color=\"sex\",size=\"fare\",title=\"arham\")\n",
    "fige.write_image(\"arhamm.png\",scale=9)\n",
    "fige.show()"
   ]
  },
  {
   "cell_type": "code",
   "execution_count": null,
   "metadata": {},
   "outputs": [],
   "source": []
  }
 ],
 "metadata": {
  "kernelspec": {
   "display_name": "Python 3",
   "language": "python",
   "name": "python3"
  },
  "language_info": {
   "codemirror_mode": {
    "name": "ipython",
    "version": 3
   },
   "file_extension": ".py",
   "mimetype": "text/x-python",
   "name": "python",
   "nbconvert_exporter": "python",
   "pygments_lexer": "ipython3",
   "version": "3.12.7"
  }
 },
 "nbformat": 4,
 "nbformat_minor": 2
}
